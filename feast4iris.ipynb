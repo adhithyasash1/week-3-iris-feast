{
 "cells": [
  {
   "cell_type": "code",
   "execution_count": 69,
   "id": "0c9b7e22-d44e-4968-91ca-5fbf8b574313",
   "metadata": {
    "tags": []
   },
   "outputs": [],
   "source": [
    "%%capture\n",
    "import warnings\n",
    "import os\n",
    "\n",
    "warnings.filterwarnings(\"ignore\")\n",
    "os.environ[\"PYTHONWARNINGS\"] = \"ignore\""
   ]
  },
  {
   "cell_type": "code",
   "execution_count": 70,
   "id": "75650ad5-cb35-4c7e-b5cb-3a9683f7de00",
   "metadata": {
    "tags": []
   },
   "outputs": [
    {
     "name": "stdout",
     "output_type": "stream",
     "text": [
      "Requirement already satisfied: feast in /opt/conda/lib/python3.10/site-packages (0.49.0)\n",
      "Requirement already satisfied: scikit-learn in /opt/conda/lib/python3.10/site-packages (1.7.0)\n",
      "Requirement already satisfied: click<9.0.0,>=7.0.0 in /opt/conda/lib/python3.10/site-packages (from feast) (8.2.1)\n",
      "Requirement already satisfied: colorama<1,>=0.3.9 in /opt/conda/lib/python3.10/site-packages (from feast) (0.4.6)\n",
      "Requirement already satisfied: dill~=0.3.0 in /opt/conda/lib/python3.10/site-packages (from feast) (0.3.9)\n",
      "Requirement already satisfied: protobuf>=4.24.0 in /opt/conda/lib/python3.10/site-packages (from feast) (6.31.1)\n",
      "Requirement already satisfied: Jinja2<4,>=2 in /opt/conda/lib/python3.10/site-packages (from feast) (3.1.6)\n",
      "Requirement already satisfied: jsonschema in /opt/conda/lib/python3.10/site-packages (from feast) (4.24.0)\n",
      "Requirement already satisfied: mmh3 in /opt/conda/lib/python3.10/site-packages (from feast) (5.1.0)\n",
      "Requirement already satisfied: numpy<2,>=1.22 in /opt/conda/lib/python3.10/site-packages (from feast) (1.26.4)\n",
      "Requirement already satisfied: pandas<3,>=1.4.3 in /opt/conda/lib/python3.10/site-packages (from feast) (2.2.2)\n",
      "Requirement already satisfied: pyarrow<=17.0.0 in /opt/conda/lib/python3.10/site-packages (from feast) (17.0.0)\n",
      "Requirement already satisfied: pydantic==2.10.6 in /opt/conda/lib/python3.10/site-packages (from feast) (2.10.6)\n",
      "Requirement already satisfied: pygments<3,>=2.12.0 in /opt/conda/lib/python3.10/site-packages (from feast) (2.19.1)\n",
      "Requirement already satisfied: PyYAML<7,>=5.4.0 in /opt/conda/lib/python3.10/site-packages (from feast) (6.0.2)\n",
      "Requirement already satisfied: requests in /opt/conda/lib/python3.10/site-packages (from feast) (2.32.4)\n",
      "Requirement already satisfied: SQLAlchemy>1 in /opt/conda/lib/python3.10/site-packages (from SQLAlchemy[mypy]>1->feast) (2.0.41)\n",
      "Requirement already satisfied: tabulate<1,>=0.8.0 in /opt/conda/lib/python3.10/site-packages (from feast) (0.9.0)\n",
      "Requirement already satisfied: tenacity<9,>=7 in /opt/conda/lib/python3.10/site-packages (from feast) (8.5.0)\n",
      "Requirement already satisfied: toml<1,>=0.10.0 in /opt/conda/lib/python3.10/site-packages (from feast) (0.10.2)\n",
      "Requirement already satisfied: tqdm<5,>=4 in /opt/conda/lib/python3.10/site-packages (from feast) (4.67.1)\n",
      "Requirement already satisfied: typeguard>=4.0.0 in /opt/conda/lib/python3.10/site-packages (from feast) (4.4.3)\n",
      "Requirement already satisfied: fastapi>=0.68.0 in /opt/conda/lib/python3.10/site-packages (from feast) (0.115.12)\n",
      "Requirement already satisfied: uvicorn==0.34.0 in /opt/conda/lib/python3.10/site-packages (from uvicorn[standard]==0.34.0->feast) (0.34.0)\n",
      "Requirement already satisfied: uvicorn-worker in /opt/conda/lib/python3.10/site-packages (from feast) (0.3.0)\n",
      "Requirement already satisfied: gunicorn in /opt/conda/lib/python3.10/site-packages (from feast) (23.0.0)\n",
      "Requirement already satisfied: dask>=2024.2.1 in /opt/conda/lib/python3.10/site-packages (from dask[dataframe]>=2024.2.1->feast) (2025.5.1)\n",
      "Requirement already satisfied: prometheus_client in /opt/conda/lib/python3.10/site-packages (from feast) (0.22.1)\n",
      "Requirement already satisfied: psutil in /opt/conda/lib/python3.10/site-packages (from feast) (5.9.3)\n",
      "Requirement already satisfied: bigtree>=0.19.2 in /opt/conda/lib/python3.10/site-packages (from feast) (0.29.2)\n",
      "Requirement already satisfied: pyjwt in /opt/conda/lib/python3.10/site-packages (from feast) (2.10.1)\n",
      "Requirement already satisfied: annotated-types>=0.6.0 in /opt/conda/lib/python3.10/site-packages (from pydantic==2.10.6->feast) (0.7.0)\n",
      "Requirement already satisfied: pydantic-core==2.27.2 in /opt/conda/lib/python3.10/site-packages (from pydantic==2.10.6->feast) (2.27.2)\n",
      "Requirement already satisfied: typing-extensions>=4.12.2 in /opt/conda/lib/python3.10/site-packages (from pydantic==2.10.6->feast) (4.14.0)\n",
      "Requirement already satisfied: h11>=0.8 in /opt/conda/lib/python3.10/site-packages (from uvicorn==0.34.0->uvicorn[standard]==0.34.0->feast) (0.16.0)\n",
      "Requirement already satisfied: httptools>=0.6.3 in /opt/conda/lib/python3.10/site-packages (from uvicorn[standard]==0.34.0->feast) (0.6.4)\n",
      "Requirement already satisfied: python-dotenv>=0.13 in /opt/conda/lib/python3.10/site-packages (from uvicorn[standard]==0.34.0->feast) (1.1.0)\n",
      "Requirement already satisfied: uvloop!=0.15.0,!=0.15.1,>=0.14.0 in /opt/conda/lib/python3.10/site-packages (from uvicorn[standard]==0.34.0->feast) (0.21.0)\n",
      "Requirement already satisfied: watchfiles>=0.13 in /opt/conda/lib/python3.10/site-packages (from uvicorn[standard]==0.34.0->feast) (1.0.5)\n",
      "Requirement already satisfied: websockets>=10.4 in /opt/conda/lib/python3.10/site-packages (from uvicorn[standard]==0.34.0->feast) (15.0.1)\n",
      "Requirement already satisfied: MarkupSafe>=2.0 in /opt/conda/lib/python3.10/site-packages (from Jinja2<4,>=2->feast) (3.0.2)\n",
      "Requirement already satisfied: python-dateutil>=2.8.2 in /opt/conda/lib/python3.10/site-packages (from pandas<3,>=1.4.3->feast) (2.9.0.post0)\n",
      "Requirement already satisfied: pytz>=2020.1 in /opt/conda/lib/python3.10/site-packages (from pandas<3,>=1.4.3->feast) (2025.2)\n",
      "Requirement already satisfied: tzdata>=2022.7 in /opt/conda/lib/python3.10/site-packages (from pandas<3,>=1.4.3->feast) (2025.2)\n",
      "Requirement already satisfied: scipy>=1.8.0 in /opt/conda/lib/python3.10/site-packages (from scikit-learn) (1.15.3)\n",
      "Requirement already satisfied: joblib>=1.2.0 in /opt/conda/lib/python3.10/site-packages (from scikit-learn) (1.5.1)\n",
      "Requirement already satisfied: threadpoolctl>=3.1.0 in /opt/conda/lib/python3.10/site-packages (from scikit-learn) (3.6.0)\n",
      "Requirement already satisfied: google-api-core<3,>=1.23.0 in /opt/conda/lib/python3.10/site-packages (from feast[gcp]) (2.25.0)\n",
      "Requirement already satisfied: googleapis-common-protos<2,>=1.52.0 in /opt/conda/lib/python3.10/site-packages (from feast[gcp]) (1.70.0)\n",
      "Requirement already satisfied: google-cloud-bigquery<4,>=2 in /opt/conda/lib/python3.10/site-packages (from google-cloud-bigquery[pandas]<4,>=2; extra == \"gcp\"->feast[gcp]) (3.34.0)\n",
      "Requirement already satisfied: google-cloud-bigquery-storage<3,>=2.0.0 in /opt/conda/lib/python3.10/site-packages (from feast[gcp]) (2.32.0)\n",
      "Requirement already satisfied: google-cloud-datastore<3,>=2.16.0 in /opt/conda/lib/python3.10/site-packages (from feast[gcp]) (2.21.0)\n",
      "Requirement already satisfied: google-cloud-storage<3,>=1.34.0 in /opt/conda/lib/python3.10/site-packages (from feast[gcp]) (2.19.0)\n",
      "Requirement already satisfied: google-cloud-bigtable<3,>=2.11.0 in /opt/conda/lib/python3.10/site-packages (from feast[gcp]) (2.31.0)\n",
      "Requirement already satisfied: fsspec<=2024.9.0 in /opt/conda/lib/python3.10/site-packages (from feast[gcp]) (2024.9.0)\n",
      "Requirement already satisfied: proto-plus<2.0.0,>=1.22.3 in /opt/conda/lib/python3.10/site-packages (from google-api-core<3,>=1.23.0->feast[gcp]) (1.26.1)\n",
      "Requirement already satisfied: google-auth<3.0.0,>=2.14.1 in /opt/conda/lib/python3.10/site-packages (from google-api-core<3,>=1.23.0->feast[gcp]) (2.40.3)\n",
      "Requirement already satisfied: cachetools<6.0,>=2.0.0 in /opt/conda/lib/python3.10/site-packages (from google-auth<3.0.0,>=2.14.1->google-api-core<3,>=1.23.0->feast[gcp]) (5.5.2)\n",
      "Requirement already satisfied: pyasn1-modules>=0.2.1 in /opt/conda/lib/python3.10/site-packages (from google-auth<3.0.0,>=2.14.1->google-api-core<3,>=1.23.0->feast[gcp]) (0.4.2)\n",
      "Requirement already satisfied: rsa<5,>=3.1.4 in /opt/conda/lib/python3.10/site-packages (from google-auth<3.0.0,>=2.14.1->google-api-core<3,>=1.23.0->feast[gcp]) (4.9.1)\n",
      "Requirement already satisfied: google-cloud-core<3.0.0,>=2.4.1 in /opt/conda/lib/python3.10/site-packages (from google-cloud-bigquery<4,>=2->google-cloud-bigquery[pandas]<4,>=2; extra == \"gcp\"->feast[gcp]) (2.4.3)\n",
      "Requirement already satisfied: google-resumable-media<3.0.0,>=2.0.0 in /opt/conda/lib/python3.10/site-packages (from google-cloud-bigquery<4,>=2->google-cloud-bigquery[pandas]<4,>=2; extra == \"gcp\"->feast[gcp]) (2.7.2)\n",
      "Requirement already satisfied: packaging>=24.2.0 in /opt/conda/lib/python3.10/site-packages (from google-cloud-bigquery<4,>=2->google-cloud-bigquery[pandas]<4,>=2; extra == \"gcp\"->feast[gcp]) (25.0)\n",
      "Requirement already satisfied: grpcio<2.0.0,>=1.33.2 in /opt/conda/lib/python3.10/site-packages (from google-api-core[grpc]<3.0.0,>=2.11.1->google-cloud-bigquery<4,>=2->google-cloud-bigquery[pandas]<4,>=2; extra == \"gcp\"->feast[gcp]) (1.73.0)\n",
      "Requirement already satisfied: grpcio-status<2.0.0,>=1.33.2 in /opt/conda/lib/python3.10/site-packages (from google-api-core[grpc]<3.0.0,>=2.11.1->google-cloud-bigquery<4,>=2->google-cloud-bigquery[pandas]<4,>=2; extra == \"gcp\"->feast[gcp]) (1.48.2)\n",
      "Requirement already satisfied: pandas-gbq>=0.26.1 in /opt/conda/lib/python3.10/site-packages (from google-cloud-bigquery[pandas]<4,>=2; extra == \"gcp\"->feast[gcp]) (0.29.1)\n",
      "Requirement already satisfied: db-dtypes<2.0.0,>=1.0.4 in /opt/conda/lib/python3.10/site-packages (from google-cloud-bigquery[pandas]<4,>=2; extra == \"gcp\"->feast[gcp]) (1.4.3)\n",
      "Requirement already satisfied: grpc-google-iam-v1<1.0.0,>=0.12.4 in /opt/conda/lib/python3.10/site-packages (from google-cloud-bigtable<3,>=2.11.0->feast[gcp]) (0.14.2)\n",
      "Requirement already satisfied: google-crc32c<2.0.0dev,>=1.5.0 in /opt/conda/lib/python3.10/site-packages (from google-cloud-bigtable<3,>=2.11.0->feast[gcp]) (1.7.1)\n",
      "Requirement already satisfied: six>=1.5 in /opt/conda/lib/python3.10/site-packages (from python-dateutil>=2.8.2->pandas<3,>=1.4.3->feast) (1.17.0)\n",
      "Requirement already satisfied: charset_normalizer<4,>=2 in /opt/conda/lib/python3.10/site-packages (from requests->feast) (3.4.2)\n",
      "Requirement already satisfied: idna<4,>=2.5 in /opt/conda/lib/python3.10/site-packages (from requests->feast) (3.10)\n",
      "Requirement already satisfied: urllib3<3,>=1.21.1 in /opt/conda/lib/python3.10/site-packages (from requests->feast) (1.26.20)\n",
      "Requirement already satisfied: certifi>=2017.4.17 in /opt/conda/lib/python3.10/site-packages (from requests->feast) (2025.4.26)\n",
      "Requirement already satisfied: pyasn1>=0.1.3 in /opt/conda/lib/python3.10/site-packages (from rsa<5,>=3.1.4->google-auth<3.0.0,>=2.14.1->google-api-core<3,>=1.23.0->feast[gcp]) (0.6.1)\n",
      "Requirement already satisfied: cloudpickle>=3.0.0 in /opt/conda/lib/python3.10/site-packages (from dask>=2024.2.1->dask[dataframe]>=2024.2.1->feast) (3.1.1)\n",
      "Requirement already satisfied: partd>=1.4.0 in /opt/conda/lib/python3.10/site-packages (from dask>=2024.2.1->dask[dataframe]>=2024.2.1->feast) (1.4.2)\n",
      "Requirement already satisfied: toolz>=0.10.0 in /opt/conda/lib/python3.10/site-packages (from dask>=2024.2.1->dask[dataframe]>=2024.2.1->feast) (1.0.0)\n",
      "Requirement already satisfied: importlib_metadata>=4.13.0 in /opt/conda/lib/python3.10/site-packages (from dask>=2024.2.1->dask[dataframe]>=2024.2.1->feast) (8.4.0)\n",
      "Requirement already satisfied: starlette<0.47.0,>=0.40.0 in /opt/conda/lib/python3.10/site-packages (from fastapi>=0.68.0->feast) (0.46.2)\n",
      "Requirement already satisfied: anyio<5,>=3.6.2 in /opt/conda/lib/python3.10/site-packages (from starlette<0.47.0,>=0.40.0->fastapi>=0.68.0->feast) (4.9.0)\n",
      "Requirement already satisfied: exceptiongroup>=1.0.2 in /opt/conda/lib/python3.10/site-packages (from anyio<5,>=3.6.2->starlette<0.47.0,>=0.40.0->fastapi>=0.68.0->feast) (1.3.0)\n",
      "Requirement already satisfied: sniffio>=1.1 in /opt/conda/lib/python3.10/site-packages (from anyio<5,>=3.6.2->starlette<0.47.0,>=0.40.0->fastapi>=0.68.0->feast) (1.3.1)\n",
      "Requirement already satisfied: zipp>=0.5 in /opt/conda/lib/python3.10/site-packages (from importlib_metadata>=4.13.0->dask>=2024.2.1->dask[dataframe]>=2024.2.1->feast) (3.23.0)\n",
      "Requirement already satisfied: setuptools in /opt/conda/lib/python3.10/site-packages (from pandas-gbq>=0.26.1->google-cloud-bigquery[pandas]<4,>=2; extra == \"gcp\"->feast[gcp]) (80.1.0)\n",
      "Requirement already satisfied: pydata-google-auth>=1.5.0 in /opt/conda/lib/python3.10/site-packages (from pandas-gbq>=0.26.1->google-cloud-bigquery[pandas]<4,>=2; extra == \"gcp\"->feast[gcp]) (1.9.1)\n",
      "Requirement already satisfied: google-auth-oauthlib>=0.7.0 in /opt/conda/lib/python3.10/site-packages (from pandas-gbq>=0.26.1->google-cloud-bigquery[pandas]<4,>=2; extra == \"gcp\"->feast[gcp]) (1.2.2)\n",
      "Requirement already satisfied: requests-oauthlib>=0.7.0 in /opt/conda/lib/python3.10/site-packages (from google-auth-oauthlib>=0.7.0->pandas-gbq>=0.26.1->google-cloud-bigquery[pandas]<4,>=2; extra == \"gcp\"->feast[gcp]) (2.0.0)\n",
      "Requirement already satisfied: locket in /opt/conda/lib/python3.10/site-packages (from partd>=1.4.0->dask>=2024.2.1->dask[dataframe]>=2024.2.1->feast) (1.0.0)\n",
      "Requirement already satisfied: oauthlib>=3.0.0 in /opt/conda/lib/python3.10/site-packages (from requests-oauthlib>=0.7.0->google-auth-oauthlib>=0.7.0->pandas-gbq>=0.26.1->google-cloud-bigquery[pandas]<4,>=2; extra == \"gcp\"->feast[gcp]) (3.2.2)\n",
      "Requirement already satisfied: greenlet>=1 in /opt/conda/lib/python3.10/site-packages (from SQLAlchemy>1->SQLAlchemy[mypy]>1->feast) (3.2.3)\n",
      "Requirement already satisfied: mypy>=0.910 in /opt/conda/lib/python3.10/site-packages (from SQLAlchemy[mypy]>1->feast) (1.16.0)\n",
      "Requirement already satisfied: mypy_extensions>=1.0.0 in /opt/conda/lib/python3.10/site-packages (from mypy>=0.910->SQLAlchemy[mypy]>1->feast) (1.1.0)\n",
      "Requirement already satisfied: pathspec>=0.9.0 in /opt/conda/lib/python3.10/site-packages (from mypy>=0.910->SQLAlchemy[mypy]>1->feast) (0.12.1)\n",
      "Requirement already satisfied: tomli>=1.1.0 in /opt/conda/lib/python3.10/site-packages (from mypy>=0.910->SQLAlchemy[mypy]>1->feast) (2.2.1)\n",
      "Requirement already satisfied: attrs>=22.2.0 in /opt/conda/lib/python3.10/site-packages (from jsonschema->feast) (25.3.0)\n",
      "Requirement already satisfied: jsonschema-specifications>=2023.03.6 in /opt/conda/lib/python3.10/site-packages (from jsonschema->feast) (2025.4.1)\n",
      "Requirement already satisfied: referencing>=0.28.4 in /opt/conda/lib/python3.10/site-packages (from jsonschema->feast) (0.36.2)\n",
      "Requirement already satisfied: rpds-py>=0.7.1 in /opt/conda/lib/python3.10/site-packages (from jsonschema->feast) (0.25.1)\n"
     ]
    }
   ],
   "source": [
    "!pip install feast scikit-learn 'feast[gcp]'"
   ]
  },
  {
   "cell_type": "code",
   "execution_count": 71,
   "id": "0ecab231-3f99-42c2-a688-29a82359a712",
   "metadata": {
    "tags": []
   },
   "outputs": [
    {
     "name": "stdout",
     "output_type": "stream",
     "text": [
      "Feast SDK Version: \"0.49.0\"\n"
     ]
    }
   ],
   "source": [
    "!feast version"
   ]
  },
  {
   "cell_type": "code",
   "execution_count": 72,
   "id": "40ab6b34-2aeb-4917-9adc-322d7a298670",
   "metadata": {
    "tags": []
   },
   "outputs": [
    {
     "name": "stdout",
     "output_type": "stream",
     "text": [
      "fatal: destination path 'week-3-iris-feast' already exists and is not an empty directory.\n"
     ]
    }
   ],
   "source": [
    "!git clone https://github.com/adhithyasash1/week-3-iris-feast.git"
   ]
  },
  {
   "cell_type": "code",
   "execution_count": 73,
   "id": "0584e332-0653-4cf1-a958-2fb638705260",
   "metadata": {
    "tags": []
   },
   "outputs": [
    {
     "name": "stdout",
     "output_type": "stream",
     "text": [
      "Updated property [core/project].\n",
      "env: GOOGLE_CLOUD_PROJECT=true-sprite-459511-f5\n"
     ]
    }
   ],
   "source": [
    "PROJECT_ID= \"true-sprite-459511-f5\" #@param {type:\"string\"}\n",
    "BUCKET_NAME= \"true-sprite-459511-f5-iris-pipeline\" #@param {type:\"string\"} custom\n",
    "BIGQUERY_DATASET_NAME=\"iris_feast_pipeline\" #@param {type:\"string\"} custom\n",
    "AI_PLATFORM_MODEL_NAME = \"iris_feast_pipeline_model\"\n",
    "\n",
    "!gcloud config set project $PROJECT_ID\n",
    "%env GOOGLE_CLOUD_PROJECT=$PROJECT_ID\n",
    "!echo project_id = $PROJECT_ID > ~/.bigqueryrc"
   ]
  },
  {
   "cell_type": "code",
   "execution_count": 74,
   "id": "ee583fd1-7857-49c4-936f-83c683b105a6",
   "metadata": {
    "tags": []
   },
   "outputs": [
    {
     "name": "stdout",
     "output_type": "stream",
     "text": [
      "Creating gs://true-sprite-459511-f5-iris-pipeline/...\n",
      "ServiceException: 409 A Cloud Storage bucket named 'true-sprite-459511-f5-iris-pipeline' already exists. Try another name. Bucket names must be globally unique across all Google Cloud projects, including those outside of your organization.\n"
     ]
    }
   ],
   "source": [
    "!gsutil mb gs://$BUCKET_NAME"
   ]
  },
  {
   "cell_type": "code",
   "execution_count": 75,
   "id": "3fe1916a-6d79-4282-90c5-573297174fd1",
   "metadata": {
    "tags": []
   },
   "outputs": [
    {
     "name": "stdout",
     "output_type": "stream",
     "text": [
      "BigQuery error in mk operation: Dataset 'true-\n",
      "sprite-459511-f5:iris_feast_pipeline' already exists.\n"
     ]
    }
   ],
   "source": [
    "!bq mk --dataset true-sprite-459511-f5:iris_feast_pipeline"
   ]
  },
  {
   "cell_type": "code",
   "execution_count": 76,
   "id": "05a5e85f-d0b5-44af-8923-88363e481edb",
   "metadata": {},
   "outputs": [
    {
     "name": "stdout",
     "output_type": "stream",
     "text": [
      "Modified iris.csv with 150 unique flower_ids and staggered timestamps.\n",
      "\n",
      "New data head:\n",
      "             event_timestamp  flower_id  sepal_length  sepal_width  \\\n",
      "0 2025-06-20 08:52:52.795099        149           5.9          3.0   \n",
      "1 2025-06-20 08:53:52.795099        148           6.2          3.4   \n",
      "2 2025-06-20 08:54:52.795099        147           6.5          3.0   \n",
      "3 2025-06-20 08:55:52.795099        146           6.3          2.5   \n",
      "4 2025-06-20 08:56:52.795099        145           6.7          3.0   \n",
      "\n",
      "   petal_length  petal_width    species  \n",
      "0           5.1          1.8  virginica  \n",
      "1           5.4          2.3  virginica  \n",
      "2           5.2          2.0  virginica  \n",
      "3           5.0          1.9  virginica  \n",
      "4           5.2          2.3  virginica  \n",
      "\n",
      "Number of unique flower_ids: 150\n"
     ]
    }
   ],
   "source": [
    "from datetime import datetime, timedelta\n",
    "\n",
    "# Load base Iris dataset\n",
    "try:\n",
    "    df = pd.read_csv(\"week-3-iris-feast/data/iris.csv\")\n",
    "except FileNotFoundError:\n",
    "    print(\"Could not find initial iris.csv, please ensure it's in the 'data' directory.\")\n",
    "    exit()\n",
    "\n",
    "# 1. Add a unique flower_id for EACH ROW using the DataFrame's index.\n",
    "df['flower_id'] = df.index\n",
    "\n",
    "# 2. Add realistic, staggered event_timestamps.\n",
    "base_timestamp = datetime.now()\n",
    "# Create a series of timestamps, each one minute apart.\n",
    "df[\"event_timestamp\"] = [base_timestamp - timedelta(minutes=i) for i in range(len(df))]\n",
    "# Reverse the order so the first row has the earliest timestamp.\n",
    "df = df.iloc[::-1].reset_index(drop=True)\n",
    "\n",
    "# Reorder columns for clarity.\n",
    "df = df[['event_timestamp', 'flower_id', 'sepal_length', 'sepal_width', 'petal_length', 'petal_width', 'species']]\n",
    "\n",
    "# Save the processed file, overwriting the old one.\n",
    "df.to_csv(\"week-3-iris-feast/data/iris.csv\", index=False)\n",
    "\n",
    "print(f\"Modified iris.csv with {len(df)} unique flower_ids and staggered timestamps.\")\n",
    "print(\"\\nNew data head:\")\n",
    "print(df.head())\n",
    "print(f\"\\nNumber of unique flower_ids: {df['flower_id'].nunique()}\")"
   ]
  },
  {
   "cell_type": "code",
   "execution_count": 77,
   "id": "2063af05-ead1-4e88-8ed0-aecd48be8456",
   "metadata": {
    "tags": []
   },
   "outputs": [
    {
     "name": "stdout",
     "output_type": "stream",
     "text": [
      "Iris CSV successfully uploaded in BigQuery.\n"
     ]
    }
   ],
   "source": [
    "from google.cloud import bigquery\n",
    "\n",
    "client = bigquery.Client()\n",
    "\n",
    "job_config = bigquery.LoadJobConfig(\n",
    "    source_format=bigquery.SourceFormat.CSV,\n",
    "    skip_leading_rows=1,\n",
    "    autodetect=True,\n",
    "    write_disposition=bigquery.WriteDisposition.WRITE_TRUNCATE,\n",
    ")\n",
    "\n",
    "with open(\"week-3-iris-feast/data/iris.csv\", \"rb\") as source_file:\n",
    "    job = client.load_table_from_file(\n",
    "        source_file,\n",
    "        destination=\"true-sprite-459511-f5.iris_feast_pipeline.iris_table\",\n",
    "        job_config=job_config\n",
    "    )\n",
    "\n",
    "job.result()  # Wait for the job to complete\n",
    "print(\"Iris CSV successfully uploaded in BigQuery.\")"
   ]
  },
  {
   "cell_type": "code",
   "execution_count": 78,
   "id": "3464ff23-9cf2-42ae-a2f0-9d5406598df2",
   "metadata": {
    "tags": []
   },
   "outputs": [],
   "source": [
    "!rm -rf .ipynb_checkpoints"
   ]
  },
  {
   "cell_type": "code",
   "execution_count": 79,
   "id": "79b65086-44be-4541-8b80-9be11a4b1248",
   "metadata": {
    "tags": []
   },
   "outputs": [],
   "source": [
    "!find . -type d -name \".ipynb_checkpoints\" -exec rm -r {} +"
   ]
  },
  {
   "cell_type": "code",
   "execution_count": 80,
   "id": "a617419f-2bf4-4db6-8588-ec89e28ba03c",
   "metadata": {
    "tags": []
   },
   "outputs": [],
   "source": [
    "with open(\"week-3-iris-feast/.feastignore\", \"w\") as f:\n",
    "    f.write(\".ipynb_checkpoints/\\n*.ipynb\\n\")"
   ]
  },
  {
   "cell_type": "code",
   "execution_count": 81,
   "id": "41ef2acf-b69b-40d3-8b8e-eff82006e327",
   "metadata": {
    "tags": []
   },
   "outputs": [
    {
     "name": "stdout",
     "output_type": "stream",
     "text": [
      ".ipynb_checkpoints/\n",
      "*.ipynb\n"
     ]
    }
   ],
   "source": [
    "!cat week-3-iris-feast/.feastignore"
   ]
  },
  {
   "cell_type": "code",
   "execution_count": 82,
   "id": "09f86f4d-aeef-4e1e-a06f-002870c68058",
   "metadata": {
    "tags": []
   },
   "outputs": [
    {
     "name": "stdout",
     "output_type": "stream",
     "text": [
      "/opt/conda/lib/python3.10/site-packages/feast/repo_config.py:268: DeprecationWarning: The serialization version 2 and below will be deprecated in the next release. Specifying `entity_key_serialization_version` to 3 is recommended.\n",
      "  warnings.warn(\n",
      "/home/jupyter/week-3-iris-feast/iris_pipeline/iris_repo.py:8: DeprecationWarning: Entity value_type will be mandatory in the next release. Please specify a value_type for entity 'flower_id'.\n",
      "  flower = Entity(\n",
      "No project found in the repository. Using project name iris_pipeline defined in feature_store.yaml\n",
      "Applying changes for project iris_pipeline\n",
      "Deploying infrastructure for \u001b[1m\u001b[32miris_features\u001b[0m\n"
     ]
    }
   ],
   "source": [
    "!feast -c week-3-iris-feast/iris_pipeline apply"
   ]
  },
  {
   "cell_type": "code",
   "execution_count": 83,
   "id": "a86e6f42-0c7f-4b27-afbd-93f97dd07028",
   "metadata": {
    "tags": []
   },
   "outputs": [
    {
     "name": "stdout",
     "output_type": "stream",
     "text": [
      "[<FeatureView(name = iris_features, entities = ['flower_id'], ttl = 364 days, 0:00:00, stream_source = None, batch_source = {\n",
      "  \"type\": \"BATCH_BIGQUERY\",\n",
      "  \"timestampField\": \"event_timestamp\",\n",
      "  \"bigqueryOptions\": {\n",
      "    \"table\": \"true-sprite-459511-f5.iris_feast_pipeline.iris_table\"\n",
      "  },\n",
      "  \"name\": \"true-sprite-459511-f5.iris_feast_pipeline.iris_table\"\n",
      "}, entity_columns = [Field(\n",
      "    name='flower_id',\n",
      "    dtype=<PrimitiveFeastType.INT64: 4>,\n",
      "    description='',\n",
      "    tags={}\n",
      "    vector_index=False\n",
      "    vector_length=0\n",
      "    vector_search_metric=''\n",
      ")], features = [Field(\n",
      "    name='sepal_length',\n",
      "    dtype=<PrimitiveFeastType.FLOAT32: 6>,\n",
      "    description='',\n",
      "    tags={}\n",
      "    vector_index=False\n",
      "    vector_length=0\n",
      "    vector_search_metric=''\n",
      "), Field(\n",
      "    name='sepal_width',\n",
      "    dtype=<PrimitiveFeastType.FLOAT32: 6>,\n",
      "    description='',\n",
      "    tags={}\n",
      "    vector_index=False\n",
      "    vector_length=0\n",
      "    vector_search_metric=''\n",
      "), Field(\n",
      "    name='petal_length',\n",
      "    dtype=<PrimitiveFeastType.FLOAT32: 6>,\n",
      "    description='',\n",
      "    tags={}\n",
      "    vector_index=False\n",
      "    vector_length=0\n",
      "    vector_search_metric=''\n",
      "), Field(\n",
      "    name='petal_width',\n",
      "    dtype=<PrimitiveFeastType.FLOAT32: 6>,\n",
      "    description='',\n",
      "    tags={}\n",
      "    vector_index=False\n",
      "    vector_length=0\n",
      "    vector_search_metric=''\n",
      "), Field(\n",
      "    name='species',\n",
      "    dtype=<PrimitiveFeastType.STRING: 2>,\n",
      "    description='',\n",
      "    tags={}\n",
      "    vector_index=False\n",
      "    vector_length=0\n",
      "    vector_search_metric=''\n",
      ")], description = , tags = {'version': 'feast', 'domain': 'iris'}, owner = , projection = FeatureViewProjection(name='iris_features', name_alias=None, desired_features=[], features=[Field(\n",
      "    name='sepal_length',\n",
      "    dtype=<PrimitiveFeastType.FLOAT32: 6>,\n",
      "    description='',\n",
      "    tags={}\n",
      "    vector_index=False\n",
      "    vector_length=0\n",
      "    vector_search_metric=''\n",
      "), Field(\n",
      "    name='sepal_width',\n",
      "    dtype=<PrimitiveFeastType.FLOAT32: 6>,\n",
      "    description='',\n",
      "    tags={}\n",
      "    vector_index=False\n",
      "    vector_length=0\n",
      "    vector_search_metric=''\n",
      "), Field(\n",
      "    name='petal_length',\n",
      "    dtype=<PrimitiveFeastType.FLOAT32: 6>,\n",
      "    description='',\n",
      "    tags={}\n",
      "    vector_index=False\n",
      "    vector_length=0\n",
      "    vector_search_metric=''\n",
      "), Field(\n",
      "    name='petal_width',\n",
      "    dtype=<PrimitiveFeastType.FLOAT32: 6>,\n",
      "    description='',\n",
      "    tags={}\n",
      "    vector_index=False\n",
      "    vector_length=0\n",
      "    vector_search_metric=''\n",
      "), Field(\n",
      "    name='species',\n",
      "    dtype=<PrimitiveFeastType.STRING: 2>,\n",
      "    description='',\n",
      "    tags={}\n",
      "    vector_index=False\n",
      "    vector_length=0\n",
      "    vector_search_metric=''\n",
      ")], join_key_map={}, timestamp_field=None, date_partition_column=None, created_timestamp_column=None, batch_source=<feast.infra.offline_stores.bigquery_source.BigQuerySource object at 0x7f72fce56ce0>), created_timestamp = 2025-06-15 18:02:33.055933, last_updated_timestamp = 2025-06-20 10:26:16.901526, source = {\n",
      "  \"type\": \"BATCH_BIGQUERY\",\n",
      "  \"timestampField\": \"event_timestamp\",\n",
      "  \"bigqueryOptions\": {\n",
      "    \"table\": \"true-sprite-459511-f5.iris_feast_pipeline.iris_table\"\n",
      "  },\n",
      "  \"name\": \"true-sprite-459511-f5.iris_feast_pipeline.iris_table\"\n",
      "}, online = False, offline = False, materialization_intervals = [])>]\n"
     ]
    }
   ],
   "source": [
    "from feast import FeatureStore\n",
    "\n",
    "store = FeatureStore(repo_path=\"week-3-iris-feast/iris_pipeline\")\n",
    "print(store.list_feature_views())"
   ]
  },
  {
   "cell_type": "code",
   "execution_count": 84,
   "id": "9652b63b-be56-4dc3-b293-6aa6c6979be0",
   "metadata": {},
   "outputs": [
    {
     "name": "stdout",
     "output_type": "stream",
     "text": [
      "/opt/conda/lib/python3.10/site-packages/feast/repo_config.py:268: DeprecationWarning: The serialization version 2 and below will be deprecated in the next release. Specifying `entity_key_serialization_version` to 3 is recommended.\n",
      "  warnings.warn(\n",
      "/home/jupyter/week-3-iris-feast/iris_pipeline/iris_repo.py:8: DeprecationWarning: Entity value_type will be mandatory in the next release. Please specify a value_type for entity 'flower_id'.\n",
      "  flower = Entity(\n",
      "No project found in the repository. Using project name iris_pipeline defined in feature_store.yaml\n",
      "\u001b[1m\u001b[94mNo changes to registry\n",
      "Created sqlite table \u001b[1m\u001b[32miris_pipeline_iris_features\u001b[0m\n",
      "\n"
     ]
    }
   ],
   "source": [
    "!feast -c week-3-iris-feast/iris_pipeline plan"
   ]
  },
  {
   "cell_type": "code",
   "execution_count": 85,
   "id": "85e47ee7-f938-4b32-a9d0-e1a7b0c58ea2",
   "metadata": {
    "tags": []
   },
   "outputs": [
    {
     "name": "stdout",
     "output_type": "stream",
     "text": [
      "total 12\n",
      "drwxr-xr-x 2 jupyter jupyter 4096 Jun 15 18:02 data\n",
      "-rw-r--r-- 1 jupyter jupyter  101 Jun 15 17:55 feature_store.yaml\n",
      "-rw-r--r-- 1 jupyter jupyter 1185 Jun 20 10:26 iris_repo.py\n"
     ]
    }
   ],
   "source": [
    "!ls -l week-3-iris-feast/iris_pipeline"
   ]
  },
  {
   "cell_type": "code",
   "execution_count": 86,
   "id": "5a7c6465-cbb8-4636-98e7-338d5afa208c",
   "metadata": {
    "tags": []
   },
   "outputs": [
    {
     "name": "stdout",
     "output_type": "stream",
     "text": [
      "total 4\n",
      "-rw-r--r-- 1 jupyter jupyter   0 Jun 15 18:02 online.db\n",
      "-rw-r--r-- 1 jupyter jupyter 898 Jun 20 11:22 registry.db\n"
     ]
    }
   ],
   "source": [
    "!ls -l week-3-iris-feast/iris_pipeline/data"
   ]
  },
  {
   "cell_type": "code",
   "execution_count": 87,
   "id": "355d9b2c-85f9-4518-a67d-750cbf95412f",
   "metadata": {
    "tags": []
   },
   "outputs": [
    {
     "name": "stdout",
     "output_type": "stream",
     "text": [
      "Requirement already satisfied: numpy<2 in /opt/conda/lib/python3.10/site-packages (1.26.4)\n",
      "Requirement already satisfied: pandas==2.2.2 in /opt/conda/lib/python3.10/site-packages (2.2.2)\n",
      "Requirement already satisfied: python-dateutil>=2.8.2 in /opt/conda/lib/python3.10/site-packages (from pandas==2.2.2) (2.9.0.post0)\n",
      "Requirement already satisfied: pytz>=2020.1 in /opt/conda/lib/python3.10/site-packages (from pandas==2.2.2) (2025.2)\n",
      "Requirement already satisfied: tzdata>=2022.7 in /opt/conda/lib/python3.10/site-packages (from pandas==2.2.2) (2025.2)\n",
      "Requirement already satisfied: six>=1.5 in /opt/conda/lib/python3.10/site-packages (from python-dateutil>=2.8.2->pandas==2.2.2) (1.17.0)\n"
     ]
    }
   ],
   "source": [
    "!pip install \"numpy<2\" \"pandas==2.2.2\""
   ]
  },
  {
   "cell_type": "code",
   "execution_count": 88,
   "id": "2e1e37ee-17ed-4085-9bb0-10d9a7e9fc82",
   "metadata": {
    "tags": []
   },
   "outputs": [
    {
     "name": "stdout",
     "output_type": "stream",
     "text": [
      "----------- DATA DIAGNOSTICS -----------\n",
      "Total rows loaded from CSV: 150\n",
      "Number of unique flower_id's in CSV: 150\n",
      "----------------------------------------\n",
      "\n",
      "----- Data after feature retrieval and rename -----\n",
      "\n",
      "                   event_timestamp  flower_id  sepal_length  sepal_width  \\\n",
      "0 2025-06-20 09:57:52.795099+00:00         84           5.4          3.0   \n",
      "1 2025-06-20 10:00:52.795099+00:00         81           5.5          2.4   \n",
      "2 2025-06-20 11:13:52.795099+00:00          8           4.4          2.9   \n",
      "3 2025-06-20 09:18:52.795099+00:00        123           6.3          2.7   \n",
      "4 2025-06-20 09:27:52.795099+00:00        114           5.8          2.8   \n",
      "\n",
      "   petal_length  petal_width       label  \n",
      "0           4.5          1.5  versicolor  \n",
      "1           3.7          1.0  versicolor  \n",
      "2           1.4          0.2      setosa  \n",
      "3           4.9          1.8   virginica  \n",
      "4           5.1          2.4   virginica  \n",
      "\n",
      "----- Feature schema -----\n",
      "\n",
      "<class 'pandas.core.frame.DataFrame'>\n",
      "RangeIndex: 150 entries, 0 to 149\n",
      "Data columns (total 7 columns):\n",
      " #   Column           Non-Null Count  Dtype              \n",
      "---  ------           --------------  -----              \n",
      " 0   event_timestamp  150 non-null    datetime64[us, UTC]\n",
      " 1   flower_id        150 non-null    int64              \n",
      " 2   sepal_length     150 non-null    float64            \n",
      " 3   sepal_width      150 non-null    float64            \n",
      " 4   petal_length     150 non-null    float64            \n",
      " 5   petal_width      150 non-null    float64            \n",
      " 6   label            150 non-null    object             \n",
      "dtypes: datetime64[us, UTC](1), float64(4), int64(1), object(1)\n",
      "memory usage: 8.3+ KB\n",
      "\n",
      "Model trained on 150 examples and saved as iris_feast_model.joblib\n"
     ]
    }
   ],
   "source": [
    "import pandas as pd\n",
    "import feast\n",
    "from joblib import dump\n",
    "from sklearn.linear_model import LogisticRegression\n",
    "\n",
    "# Load the raw data to get the correct timestamps and entity IDs\n",
    "try:\n",
    "    df = pd.read_csv(\"week-3-iris-feast/data/iris.csv\", parse_dates=[\"event_timestamp\"])\n",
    "except FileNotFoundError:\n",
    "    print(\"Error: 'week-3-iris-feast/data/iris.csv' not found.\")\n",
    "    df = pd.DataFrame()\n",
    "\n",
    "print(\"----------- DATA DIAGNOSTICS -----------\")\n",
    "print(f\"Total rows loaded from CSV: {len(df)}\")\n",
    "print(f\"Number of unique flower_id's in CSV: {df['flower_id'].nunique()}\") # <-- This should now be 150\n",
    "print(\"----------------------------------------\")\n",
    "\n",
    "if not df.empty:\n",
    "    # Notice we now use the corrected entity dataframe with 150 unique IDs\n",
    "    entity_df = df[[\"event_timestamp\", \"flower_id\"]].copy()\n",
    "\n",
    "    # Connecting to feature store\n",
    "    fs = feast.FeatureStore(repo_path=\"week-3-iris-feast/iris_pipeline\")\n",
    "\n",
    "    # Pulling in historical features\n",
    "    training = fs.get_historical_features(\n",
    "        entity_df=entity_df,\n",
    "        features=[\n",
    "            \"iris_features:sepal_length\",\n",
    "            \"iris_features:sepal_width\",\n",
    "            \"iris_features:petal_length\",\n",
    "            \"iris_features:petal_width\",\n",
    "            \"iris_features:species\",\n",
    "        ]\n",
    "    ).to_df()\n",
    "\n",
    "    training = training.rename(columns={\"species\": \"label\"})\n",
    "\n",
    "    print(\"\\n----- Data after feature retrieval and rename -----\\n\")\n",
    "    print(training.head())\n",
    "    print(\"\\n----- Feature schema -----\\n\")\n",
    "    training.info()\n",
    "\n",
    "    # Drop any rows with missing values\n",
    "    training.dropna(subset=[\"sepal_length\",\"sepal_width\",\"petal_length\",\"petal_width\",\"label\"], inplace=True)\n",
    "    \n",
    "    # Since every flower_id is now unique, this drop_duplicates line will have no effect,\n",
    "    # leaving you with all 150 rows.\n",
    "    training = (\n",
    "        training\n",
    "        .sort_values(by=\"event_timestamp\", ascending=False)\n",
    "        .drop_duplicates(subset=\"flower_id\", keep=\"first\")\n",
    "    )\n",
    "\n",
    "\n",
    "    # Training a classifier\n",
    "    X = training[[\"sepal_length\",\"sepal_width\",\"petal_length\",\"petal_width\"]]\n",
    "    y = training[\"label\"]\n",
    "\n",
    "    if not X.empty:\n",
    "        clf = LogisticRegression(max_iter=200)\n",
    "        clf.fit(X, y)\n",
    "\n",
    "        # Saving model\n",
    "        dump(clf, \"week-3-iris-feast/iris_feast_model.joblib\")\n",
    "        # You should see 150 examples here!\n",
    "        print(f\"\\nModel trained on {len(X)} examples and saved as iris_feast_model.joblib\")\n",
    "    else:\n",
    "        print(\"\\nCould not train model as no training data was available after processing.\")"
   ]
  },
  {
   "cell_type": "code",
   "execution_count": 101,
   "id": "0fc14ad0-d59d-49aa-8077-44664e8d1cb7",
   "metadata": {
    "tags": []
   },
   "outputs": [],
   "source": [
    "!rm -rf .ipynb_checkpoints"
   ]
  },
  {
   "cell_type": "code",
   "execution_count": 102,
   "id": "401068c0-ee61-45c6-b89d-b91864593519",
   "metadata": {
    "tags": []
   },
   "outputs": [],
   "source": [
    "!find . -type d -name \".ipynb_checkpoints\" -exec rm -r {} +"
   ]
  },
  {
   "cell_type": "code",
   "execution_count": 103,
   "id": "956dbd5d-44ac-4289-8803-5ec3f2d4413d",
   "metadata": {
    "tags": []
   },
   "outputs": [],
   "source": [
    "with open(\"week-3-iris-feast/.feastignore\", \"w\") as f:\n",
    "    f.write(\".ipynb_checkpoints/\\n*.ipynb\\n\")"
   ]
  },
  {
   "cell_type": "code",
   "execution_count": 104,
   "id": "0dbc661a-a3ec-494e-b695-b6c29d3f01bc",
   "metadata": {
    "tags": []
   },
   "outputs": [
    {
     "name": "stdout",
     "output_type": "stream",
     "text": [
      ".ipynb_checkpoints/\n",
      "*.ipynb\n"
     ]
    }
   ],
   "source": [
    "!cat week-3-iris-feast/.feastignore"
   ]
  },
  {
   "cell_type": "code",
   "execution_count": 105,
   "id": "30579102-4d73-407e-9e43-420967223362",
   "metadata": {
    "tags": []
   },
   "outputs": [
    {
     "name": "stdout",
     "output_type": "stream",
     "text": [
      "/home/jupyter/week-3-iris-feast/iris_pipeline/iris_repo.py:8: DeprecationWarning: Entity value_type will be mandatory in the next release. Please specify a value_type for entity 'flower_id'.\n",
      "  flower = Entity(\n",
      "No project found in the repository. Using project name iris_pipeline defined in feature_store.yaml\n",
      "Applying changes for project iris_pipeline\n",
      "Deploying infrastructure for \u001b[1m\u001b[32miris_features\u001b[0m\n"
     ]
    }
   ],
   "source": [
    "!feast -c week-3-iris-feast/iris_pipeline apply"
   ]
  },
  {
   "cell_type": "code",
   "execution_count": 106,
   "id": "438d1f49-ae84-49a4-a9f1-84a0e39ca40e",
   "metadata": {
    "tags": []
   },
   "outputs": [
    {
     "name": "stdout",
     "output_type": "stream",
     "text": [
      "Materializing \u001b[1m\u001b[32m1\u001b[0m feature views from \u001b[1m\u001b[32m2025-06-20 08:52:52+00:00\u001b[0m to \u001b[1m\u001b[32m2025-06-20 11:21:52+00:00\u001b[0m into the \u001b[1m\u001b[32msqlite\u001b[0m online store.\n",
      "\n",
      "\u001b[1m\u001b[32miris_features\u001b[0m:\n",
      "100%|███████████████████████████████████████████████████████████| 150/150 [00:00<00:00, 5827.53it/s]\n"
     ]
    }
   ],
   "source": [
    "!cd week-3-iris-feast/iris_pipeline && feast materialize 2025-06-20T08:52:52.795099 2025-06-20T11:21:52.795099+00:00"
   ]
  },
  {
   "cell_type": "code",
   "execution_count": 97,
   "id": "9b3d67bb-90d7-4b27-8c0b-9e8dad0ead1f",
   "metadata": {
    "tags": []
   },
   "outputs": [
    {
     "name": "stdout",
     "output_type": "stream",
     "text": [
      "min: 2025-06-20 08:52:52.795099\n",
      "max: 2025-06-20 11:21:52.795099\n"
     ]
    }
   ],
   "source": [
    "'''\n",
    "import pandas as pd\n",
    "df = pd.read_csv(\"week-3-iris-feast/data/iris.csv\", parse_dates=[\"event_timestamp\"])\n",
    "print(\"min:\", df.event_timestamp.min())\n",
    "print(\"max:\", df.event_timestamp.max())\n",
    "'''"
   ]
  },
  {
   "cell_type": "code",
   "execution_count": 116,
   "id": "a88cfb66-62c5-48eb-9562-71824b44b5d8",
   "metadata": {
    "tags": []
   },
   "outputs": [
    {
     "name": "stdout",
     "output_type": "stream",
     "text": [
      "   flower_id  petal_length  sepal_length  sepal_width  petal_width\n",
      "0          0           1.4           5.1          3.5          0.2\n",
      "1          1           1.4           4.9          3.0          0.2\n",
      "flower_id       0\n",
      "petal_length    0\n",
      "sepal_length    0\n",
      "sepal_width     0\n",
      "petal_width     0\n",
      "dtype: int64\n"
     ]
    }
   ],
   "source": [
    "from feast import FeatureStore\n",
    "fs = FeatureStore(repo_path=\"week-3-iris-feast/iris_pipeline\")\n",
    "\n",
    "# Try flower_id=0 and 1 for example\n",
    "online_df = fs.get_online_features(\n",
    "  features=[\n",
    "    \"iris_features:sepal_length\",\n",
    "    \"iris_features:sepal_width\",\n",
    "    \"iris_features:petal_length\",\n",
    "    \"iris_features:petal_width\",\n",
    "  ],\n",
    "  entity_rows=[{\"flower_id\": 0}, {\"flower_id\": 1}]\n",
    ").to_df()\n",
    "\n",
    "print(online_df)"
   ]
  },
  {
   "cell_type": "code",
   "execution_count": 117,
   "id": "ae03b54a-29fc-4f34-99b3-34adb75d7ce1",
   "metadata": {
    "tags": []
   },
   "outputs": [
    {
     "name": "stdout",
     "output_type": "stream",
     "text": [
      "   flower_id  prediction\n",
      "0          1      setosa\n",
      "1          2      setosa\n",
      "2         53  versicolor\n",
      "3        101   virginica\n",
      "4        149   virginica\n"
     ]
    }
   ],
   "source": [
    "import feast\n",
    "from joblib import load\n",
    "import pandas as pd\n",
    "\n",
    "class IrisInferenceService:\n",
    "    def __init__(self,\n",
    "                 repo_path: str = \"week-3-iris-feast/iris_pipeline\",\n",
    "                 model_path: str = \"week-3-iris-feast/iris_feast_model.joblib\"):\n",
    "        # Loading Feast FeatureStore\n",
    "        self.fs = feast.FeatureStore(repo_path=repo_path)\n",
    "        # Loading the trained model\n",
    "        self.model = load(model_path)\n",
    "\n",
    "    def predict(self, flower_ids: list[int]) -> pd.DataFrame:\n",
    "        # Building entity rows for lookup\n",
    "        entity_rows = [{\"flower_id\": fid} for fid in flower_ids]\n",
    "\n",
    "        # Fetching features online\n",
    "        online_feats = self.fs.get_online_features(\n",
    "            features=[\n",
    "                \"iris_features:sepal_length\",\n",
    "                \"iris_features:sepal_width\",\n",
    "                \"iris_features:petal_length\",\n",
    "                \"iris_features:petal_width\",\n",
    "            ],\n",
    "            entity_rows=entity_rows\n",
    "        ).to_df()\n",
    "\n",
    "        # Preparing input for model\n",
    "        X = online_feats[[\n",
    "            \"sepal_length\",\n",
    "            \"sepal_width\",\n",
    "            \"petal_length\",\n",
    "            \"petal_width\",\n",
    "        ]]\n",
    "\n",
    "        # Predicting and attaching results\n",
    "        online_feats[\"prediction\"] = self.model.predict(X)\n",
    "        return online_feats[[\"flower_id\", \"prediction\"]]\n",
    "\n",
    "if __name__ == \"__main__\":\n",
    "    # Quick smoke-test\n",
    "    service = IrisInferenceService()\n",
    "    result = service.predict([1, 2, 53, 101, 149])\n",
    "    print(result)"
   ]
  },
  {
   "cell_type": "code",
   "execution_count": null,
   "id": "d1e457de-04c4-49ef-bf5a-acdbe4ab7d28",
   "metadata": {},
   "outputs": [],
   "source": []
  }
 ],
 "metadata": {
  "environment": {
   "kernel": "conda-base-py",
   "name": "workbench-notebooks.m130",
   "type": "gcloud",
   "uri": "us-docker.pkg.dev/deeplearning-platform-release/gcr.io/workbench-notebooks:m130"
  },
  "kernelspec": {
   "display_name": "Python 3 (ipykernel) (Local)",
   "language": "python",
   "name": "conda-base-py"
  },
  "language_info": {
   "codemirror_mode": {
    "name": "ipython",
    "version": 3
   },
   "file_extension": ".py",
   "mimetype": "text/x-python",
   "name": "python",
   "nbconvert_exporter": "python",
   "pygments_lexer": "ipython3",
   "version": "3.10.18"
  }
 },
 "nbformat": 4,
 "nbformat_minor": 5
}
